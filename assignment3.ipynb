{
 "cells": [
  {
   "cell_type": "markdown",
   "id": "245217cc",
   "metadata": {},
   "source": [
    "# Assignment: SVD Preprocessing on MNIST with Logistic Regression"
   ]
  },
  {
   "cell_type": "markdown",
   "id": "deffa444",
   "metadata": {},
   "source": [
    "## Instructions:\n",
    "In this assignment, you will apply **Singular Value Decomposition (SVD)** as a preprocessing step to the **MNIST dataset** and train a **logistic regression classifier**. You will compare the model performance and training time when using different levels of SVD for dimensionality reduction.\n",
    "\n",
    "In this assignment, you will need to:\n",
    "1. Load the MNIST dataset and normalize it.\n",
    "2. Perform SVD and reduce the dimensions of the data.\n",
    "3. Train a logistic regression model on the original and SVD-reduced data.\n",
    "4. Measure and compare the training time and accuracy of the model with varying SVD components.\n",
    "5. Plot the results and analyze how SVD impacts the performance and efficiency of the model.\n",
    "\n",
    "***\n",
    "Your tasks include:\n",
    "1. Implement SVD algorithm. You are not allowed to directly use SVD implemented by other packages, but you may use functions in NumPy. (Part 2)\n",
    "2. Explore the accuracy and time performance from different numbers of SVD components. (Part 4)\n",
    "3. Visualize the accuracy, time performance and top 5 singular vectors in the dataset, analyze and explain which number of SVD component looks best to you? (Part 4,5&6) Hint: singular vectors should be reshaped to 28x28 images for visualization.\n",
    "***\n",
    "**Note that you may not import any other function or package.** Let's get started!\n"
   ]
  },
  {
   "cell_type": "markdown",
   "id": "b3e10cb3",
   "metadata": {},
   "source": [
    "## Part 1: Load the MNIST dataset and preprocess the data"
   ]
  },
  {
   "cell_type": "code",
   "execution_count": null,
   "id": "79f2d907",
   "metadata": {},
   "outputs": [
    {
     "name": "stdout",
     "output_type": "stream",
     "text": [
      "Loading MNIST dataset...\n",
      "Loading MNIST dataset...\n"
     ]
    }
   ],
   "source": [
    "import numpy as np\n",
    "import matplotlib.pyplot as plt\n",
    "import time\n",
    "from sklearn.linear_model import LogisticRegression\n",
    "from sklearn.model_selection import train_test_split\n",
    "from sklearn.datasets import fetch_openml\n",
    "from sklearn.metrics import accuracy_score, classification_report\n",
    "import numpy as np\n",
    "import scipy\n",
    "import sklearn\n",
    "\n",
    "\n",
    "\n",
    "# Load MNIST dataset\n",
    "print(\"Loading MNIST dataset...\")\n",
    "print(\"Loading MNIST dataset...\")\n",
    "mnist = fetch_openml('mnist_784', version=1)\n",
    "\n",
    "X = mnist.data\n",
    "\n",
    "y = mnist.target\n",
    "\n",
    "\n",
    "X = X / 255.0\n",
    "\n",
    "X_train, X_test, y_train, y_test = train_test_split(X, y, test_size=0.2, random_state=42)\n"
   ]
  },
  {
   "cell_type": "markdown",
   "id": "28b8572d",
   "metadata": {},
   "source": [
    "## Part 2: Implement SVD for Dimensionality Reduction"
   ]
  },
  {
   "cell_type": "code",
   "execution_count": 2,
   "id": "b3bd59f3",
   "metadata": {},
   "outputs": [],
   "source": [
    "import numpy as np\n",
    "\n",
    "def svd_helper(X, n_components):\n",
    "    \n",
    "    ''' svd_helper() Helper function which takes a matrix x, and n components'''\n",
    "    covariance_matrix = np.dot(X.T, X)\n",
    "    \n",
    "  \n",
    "    eigen_vals, eigen_vecs = np.linalg.eig(covariance_matrix)\n",
    "    \n",
    "    \n",
    "    eigen_val = np.real(eigen_vals)\n",
    "    eigen_vec = np.real(eigen_vecs)\n",
    "    \n",
    "   \n",
    "    sorted_indices = np.argsort(eigen_val)[::-1]\n",
    "    sorted_eigenvectors = eigen_vec[:, sorted_indices]\n",
    "    \n",
    "   \n",
    "    U = sorted_eigenvectors[:, :n_components]\n",
    "    \n",
    "  \n",
    "    S = np.sqrt(eigen_vals[sorted_indices[:n_components]])\n",
    "    \n",
    "   \n",
    "    V_T =( (np.dot(X, U)) / S)\n",
    "    \n",
    "    return U, S, V_T\n",
    "\n",
    "def apply_svd_custom(X_train, X_test, n_components):\n",
    "    \n",
    "    ''' apply_svd_custom() function computes the SVD on the training data and uses it to transform\n",
    "    both training and test data to a lower-dimensional space.'''\n",
    "    \n",
    "    U_train, _ , _ = svd_helper(X_train, n_components)\n",
    "    \n",
    "  \n",
    "    x_train_red = np.dot(X_train, U_train)\n",
    "    \n",
    "    x_test_red = np.dot(X_test, U_train)\n",
    "    \n",
    "    return x_train_red, x_test_red\n"
   ]
  },
  {
   "cell_type": "markdown",
   "id": "f04fe950",
   "metadata": {},
   "source": []
  },
  {
   "cell_type": "markdown",
   "id": "eb2a7a9d",
   "metadata": {},
   "source": [
    "## Part 3: Train Logistic Regression and Measure Performance"
   ]
  },
  {
   "cell_type": "code",
   "execution_count": 27,
   "id": "dbfc0b10",
   "metadata": {},
   "outputs": [],
   "source": [
    "\n",
    "def train_logistic_regression(X_train, y_train, X_test, y_test):\n",
    "    \n",
    "    ''''train_logistic_regression() trains a logistic regression model on the provided training data,\n",
    "    measures the training time, and evaluates the model's accuracy on the test data. '''\n",
    "    \n",
    "    model = LogisticRegression(max_iter=1000, solver='saga', random_state=42, multi_class='multinomial')\n",
    "    \n",
    " \n",
    "    begin = time.time()\n",
    "    model.fit(X_train, y_train)\n",
    "    duration  = time.time() - begin\n",
    "    \n",
    "    pred = model.predict(X_test)\n",
    "    score  = accuracy_score(y_test, pred)\n",
    "    \n",
    "    return score, duration\n"
   ]
  },
  {
   "cell_type": "markdown",
   "id": "2e557a05",
   "metadata": {},
   "source": [
    "## Part 4: Experiment with Different Levels of SVD\n",
    "\n",
    "Now, apply SVD with varying numbers of components and observe how the dimensionality reduction impacts the model's performance. Record both the accuracy and training time for each number of components.\n"
   ]
  },
  {
   "cell_type": "code",
   "execution_count": 28,
   "id": "3a460725",
   "metadata": {},
   "outputs": [
    {
     "name": "stdout",
     "output_type": "stream",
     "text": [
      "Training models with different levels of SVD preprocessing...\n",
      "Applying custom SVD with 100 components...\n"
     ]
    },
    {
     "name": "stderr",
     "output_type": "stream",
     "text": [
      "/home/aid/.local/lib/python3.10/site-packages/sklearn/linear_model/_logistic.py:1247: FutureWarning: 'multi_class' was deprecated in version 1.5 and will be removed in 1.7. From then on, it will always use 'multinomial'. Leave it to its default value to avoid this warning.\n",
      "  warnings.warn(\n"
     ]
    },
    {
     "name": "stdout",
     "output_type": "stream",
     "text": [
      "SVD components: 100, Accuracy: 0.9181, Training time: 21.7345 seconds\n",
      "Applying custom SVD with 50 components...\n"
     ]
    },
    {
     "name": "stderr",
     "output_type": "stream",
     "text": [
      "/home/aid/.local/lib/python3.10/site-packages/sklearn/linear_model/_logistic.py:1247: FutureWarning: 'multi_class' was deprecated in version 1.5 and will be removed in 1.7. From then on, it will always use 'multinomial'. Leave it to its default value to avoid this warning.\n",
      "  warnings.warn(\n"
     ]
    },
    {
     "name": "stdout",
     "output_type": "stream",
     "text": [
      "SVD components: 50, Accuracy: 0.9085, Training time: 5.7570 seconds\n",
      "Applying custom SVD with 20 components...\n"
     ]
    },
    {
     "name": "stderr",
     "output_type": "stream",
     "text": [
      "/home/aid/.local/lib/python3.10/site-packages/sklearn/linear_model/_logistic.py:1247: FutureWarning: 'multi_class' was deprecated in version 1.5 and will be removed in 1.7. From then on, it will always use 'multinomial'. Leave it to its default value to avoid this warning.\n",
      "  warnings.warn(\n"
     ]
    },
    {
     "name": "stdout",
     "output_type": "stream",
     "text": [
      "SVD components: 20, Accuracy: 0.8779, Training time: 0.7305 seconds\n"
     ]
    }
   ],
   "source": [
    "# SVD components to explore\n",
    "svd_components = [10, 20, 5]\n",
    "\n",
    "# Store the results\n",
    "results = []\n",
    "\n",
    "print(\"Training models with different levels of SVD preprocessing...\")\n",
    "\n",
    "# Fir each component we calculate the SVD and time it took. We train our model based on these results\n",
    "for n_components in svd_components:\n",
    "    print(f\"Applying custom SVD with {n_components} components...\")\n",
    "    \n",
    "  \n",
    "    fet_train_red, fet_test_red = apply_svd_custom(X_train, X_test, n_components)\n",
    "    \n",
    "   \n",
    "    accuracy, training_time = train_logistic_regression(fet_train_red, y_train, fet_test_red, y_test)\n",
    "    \n",
    "  \n",
    "    results.append({\n",
    "        'n_components': n_components,\n",
    "        'accuracy': accuracy,\n",
    "        'training_time': training_time\n",
    "    })\n",
    "    \n",
    "    print(f\"SVD components: {n_components}, Accuracy: {accuracy:.4f}, Training time: {training_time:.4f} seconds\")"
   ]
  },
  {
   "cell_type": "markdown",
   "id": "ea7aca12",
   "metadata": {},
   "source": [
    "## Part 5: Visualize and Analyze the Results\n",
    "\n",
    "Finally, plot the accuracy, training time as a function of the number of SVD components, and top 5 singular vectors. This will help you understand the trade-off between dimensionality reduction, accuracy, and model training time, and how SVD generally works. Hint: singular vectors should be reshaped to 28x28 images for visualization.\n"
   ]
  },
  {
   "cell_type": "code",
   "execution_count": 3,
   "id": "92ef0497",
   "metadata": {},
   "outputs": [
    {
     "ename": "NameError",
     "evalue": "name 'X_train' is not defined",
     "output_type": "error",
     "traceback": [
      "\u001b[0;31m---------------------------------------------------------------------------\u001b[0m",
      "\u001b[0;31mNameError\u001b[0m                                 Traceback (most recent call last)",
      "\u001b[0;32m/tmp/ipykernel_212435/1738295096.py\u001b[0m in \u001b[0;36m<module>\u001b[0;34m\u001b[0m\n\u001b[0;32m----> 1\u001b[0;31m \u001b[0mU\u001b[0m\u001b[0;34m,\u001b[0m \u001b[0mS\u001b[0m\u001b[0;34m,\u001b[0m \u001b[0mV_T\u001b[0m \u001b[0;34m=\u001b[0m \u001b[0msvd_helper\u001b[0m\u001b[0;34m(\u001b[0m\u001b[0mX_train\u001b[0m\u001b[0;34m,\u001b[0m \u001b[0mn_components\u001b[0m\u001b[0;34m=\u001b[0m\u001b[0;36m5\u001b[0m\u001b[0;34m)\u001b[0m\u001b[0;34m\u001b[0m\u001b[0;34m\u001b[0m\u001b[0m\n\u001b[0m\u001b[1;32m      2\u001b[0m \u001b[0;34m\u001b[0m\u001b[0m\n\u001b[1;32m      3\u001b[0m \u001b[0mtop_5_vectors\u001b[0m \u001b[0;34m=\u001b[0m \u001b[0mU\u001b[0m\u001b[0;34m[\u001b[0m\u001b[0;34m:\u001b[0m\u001b[0;34m,\u001b[0m \u001b[0;34m:\u001b[0m\u001b[0;36m5\u001b[0m\u001b[0;34m]\u001b[0m\u001b[0;34m\u001b[0m\u001b[0;34m\u001b[0m\u001b[0m\n\u001b[1;32m      4\u001b[0m \u001b[0;34m\u001b[0m\u001b[0m\n\u001b[1;32m      5\u001b[0m \u001b[0mplt\u001b[0m\u001b[0;34m.\u001b[0m\u001b[0mfigure\u001b[0m\u001b[0;34m(\u001b[0m\u001b[0mfigsize\u001b[0m\u001b[0;34m=\u001b[0m\u001b[0;34m(\u001b[0m\u001b[0;36m20\u001b[0m\u001b[0;34m,\u001b[0m \u001b[0;36m15\u001b[0m\u001b[0;34m)\u001b[0m\u001b[0;34m)\u001b[0m  \u001b[0;31m# Increased figure size\u001b[0m\u001b[0;34m\u001b[0m\u001b[0;34m\u001b[0m\u001b[0m\n",
      "\u001b[0;31mNameError\u001b[0m: name 'X_train' is not defined"
     ]
    }
   ],
   "source": [
    "U, S, V_T = svd_helper(X_train, n_components=5) \n",
    "\n",
    "top_5_vectors = U[:, :5]\n",
    "\n",
    "plt.figure(figsize=(20, 15))  # Increased figure size\n",
    "\n",
    "# Accuracy plot\n",
    "plt.subplot(2, 3, 1)\n",
    "accuracies = [result['accuracy'] for result in results]\n",
    "plt.plot(svd_components, accuracies, marker='o', color='#3498db')\n",
    "plt.title('Accuracy vs SVD Components')\n",
    "plt.xlabel('SVD Components')\n",
    "plt.ylabel('Accuracy')\n",
    "\n",
    "# Training time plot\n",
    "plt.subplot(2, 3, 2)\n",
    "times = [result['training_time'] for result in results]\n",
    "plt.plot(svd_components, times, marker='o', color='#2ecc71')\n",
    "plt.title('Training Time vs SVD Components')\n",
    "plt.xlabel('SVD Components')\n",
    "plt.ylabel('Time (sec)')\n",
    "\n",
    "# Top 5 singular vectors\n",
    "for i in range(5):\n",
    "    plt.subplot(2, 3, i+3)\n",
    "    vector = top_5_vectors[:, i].reshape(28, 28)\n",
    "    plt.imshow(vector, cmap='gray')\n",
    "    plt.axis('off')\n",
    "    plt.title(f'Singular Vector {i+1}')\n",
    "\n",
    "plt.tight_layout()\n",
    "plt.savefig(\"plots_with_vectors.jpg\", dpi=300)"
   ]
  },
  {
   "cell_type": "markdown",
   "id": "4210569a",
   "metadata": {},
   "source": [
    "## Part 6: Analyze / Conclusion \n",
    "\n",
    "YOUR ANSWER: \n",
    "\n",
    "The results from the graph reveal that there's  trade-offs between model accuracy and training time. As the number of components increases from 20 to 100, accuracy improves from 0.88 to 0.92, with diminishing returns beyond 50 components. However, training time also increases significantly, from 2 seconds with 20 components to 20 seconds with 100 components. The optimal balance is around 50 components, offering high accuracy (~0.91) with reasonable training time (~7 seconds). This choice provides a good compromise between performance and computational efficiency, though the final decision depends on specific application requirements and available resources."
   ]
  },
  {
   "cell_type": "code",
   "execution_count": null,
   "id": "d47f043c",
   "metadata": {},
   "outputs": [],
   "source": []
  }
 ],
 "metadata": {
  "kernelspec": {
   "display_name": "Python 3",
   "language": "python",
   "name": "python3"
  },
  "language_info": {
   "codemirror_mode": {
    "name": "ipython",
    "version": 3
   },
   "file_extension": ".py",
   "mimetype": "text/x-python",
   "name": "python",
   "nbconvert_exporter": "python",
   "pygments_lexer": "ipython3",
   "version": "3.10.12"
  }
 },
 "nbformat": 4,
 "nbformat_minor": 5
}
